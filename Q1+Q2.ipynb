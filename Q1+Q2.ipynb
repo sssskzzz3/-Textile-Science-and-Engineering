{
 "cells": [
  {
   "cell_type": "code",
   "execution_count": 7,
   "id": "c9a2632e-0baa-46a0-a30e-8e5ce15f299c",
   "metadata": {},
   "outputs": [
    {
     "data": {
      "text/html": [
       "<div>\n",
       "<style scoped>\n",
       "    .dataframe tbody tr th:only-of-type {\n",
       "        vertical-align: middle;\n",
       "    }\n",
       "\n",
       "    .dataframe tbody tr th {\n",
       "        vertical-align: top;\n",
       "    }\n",
       "\n",
       "    .dataframe thead th {\n",
       "        text-align: right;\n",
       "    }\n",
       "</style>\n",
       "<table border=\"1\" class=\"dataframe\">\n",
       "  <thead>\n",
       "    <tr style=\"text-align: right;\">\n",
       "      <th></th>\n",
       "      <th>序号</th>\n",
       "      <th>学校名称</th>\n",
       "      <th>专业</th>\n",
       "      <th>专业等级</th>\n",
       "      <th>地区</th>\n",
       "      <th>专业创设年份</th>\n",
       "      <th>2004</th>\n",
       "      <th>2005</th>\n",
       "      <th>2006</th>\n",
       "      <th>2007</th>\n",
       "      <th>...</th>\n",
       "      <th>2015</th>\n",
       "      <th>2016</th>\n",
       "      <th>2017</th>\n",
       "      <th>2018</th>\n",
       "      <th>2019</th>\n",
       "      <th>2020</th>\n",
       "      <th>2021</th>\n",
       "      <th>2022</th>\n",
       "      <th>2023</th>\n",
       "      <th>二十年论文总数</th>\n",
       "    </tr>\n",
       "  </thead>\n",
       "  <tbody>\n",
       "    <tr>\n",
       "      <th>0</th>\n",
       "      <td>1</td>\n",
       "      <td>五邑大学</td>\n",
       "      <td>纺织工程</td>\n",
       "      <td>B</td>\n",
       "      <td>广东省江门市</td>\n",
       "      <td>1985</td>\n",
       "      <td>7</td>\n",
       "      <td>5</td>\n",
       "      <td>4</td>\n",
       "      <td>4</td>\n",
       "      <td>...</td>\n",
       "      <td>12</td>\n",
       "      <td>7</td>\n",
       "      <td>3</td>\n",
       "      <td>8</td>\n",
       "      <td>3</td>\n",
       "      <td>2</td>\n",
       "      <td>5</td>\n",
       "      <td>1</td>\n",
       "      <td>8</td>\n",
       "      <td>93</td>\n",
       "    </tr>\n",
       "    <tr>\n",
       "      <th>1</th>\n",
       "      <td>2</td>\n",
       "      <td>绍兴文理学院</td>\n",
       "      <td>纺织工程</td>\n",
       "      <td>B</td>\n",
       "      <td>浙江省绍兴市</td>\n",
       "      <td>1994</td>\n",
       "      <td>8</td>\n",
       "      <td>7</td>\n",
       "      <td>12</td>\n",
       "      <td>20</td>\n",
       "      <td>...</td>\n",
       "      <td>15</td>\n",
       "      <td>19</td>\n",
       "      <td>10</td>\n",
       "      <td>18</td>\n",
       "      <td>13</td>\n",
       "      <td>11</td>\n",
       "      <td>17</td>\n",
       "      <td>16</td>\n",
       "      <td>8</td>\n",
       "      <td>285</td>\n",
       "    </tr>\n",
       "    <tr>\n",
       "      <th>2</th>\n",
       "      <td>3</td>\n",
       "      <td>嘉兴大学</td>\n",
       "      <td>纺织工程</td>\n",
       "      <td>B</td>\n",
       "      <td>浙江省嘉兴市</td>\n",
       "      <td>1999</td>\n",
       "      <td>0</td>\n",
       "      <td>0</td>\n",
       "      <td>0</td>\n",
       "      <td>0</td>\n",
       "      <td>...</td>\n",
       "      <td>0</td>\n",
       "      <td>0</td>\n",
       "      <td>0</td>\n",
       "      <td>0</td>\n",
       "      <td>0</td>\n",
       "      <td>0</td>\n",
       "      <td>0</td>\n",
       "      <td>0</td>\n",
       "      <td>0</td>\n",
       "      <td>0</td>\n",
       "    </tr>\n",
       "    <tr>\n",
       "      <th>3</th>\n",
       "      <td>4</td>\n",
       "      <td>新疆科技学院</td>\n",
       "      <td>纺织工程</td>\n",
       "      <td>--</td>\n",
       "      <td>新疆维吾尔自治区乌鲁木齐市</td>\n",
       "      <td>2011</td>\n",
       "      <td>0</td>\n",
       "      <td>0</td>\n",
       "      <td>0</td>\n",
       "      <td>0</td>\n",
       "      <td>...</td>\n",
       "      <td>0</td>\n",
       "      <td>0</td>\n",
       "      <td>0</td>\n",
       "      <td>0</td>\n",
       "      <td>0</td>\n",
       "      <td>0</td>\n",
       "      <td>2</td>\n",
       "      <td>2</td>\n",
       "      <td>4</td>\n",
       "      <td>8</td>\n",
       "    </tr>\n",
       "    <tr>\n",
       "      <th>4</th>\n",
       "      <td>5</td>\n",
       "      <td>中原工学院</td>\n",
       "      <td>纺织工程</td>\n",
       "      <td>B</td>\n",
       "      <td>河南省郑州市</td>\n",
       "      <td>1955</td>\n",
       "      <td>34</td>\n",
       "      <td>42</td>\n",
       "      <td>30</td>\n",
       "      <td>33</td>\n",
       "      <td>...</td>\n",
       "      <td>33</td>\n",
       "      <td>30</td>\n",
       "      <td>43</td>\n",
       "      <td>45</td>\n",
       "      <td>31</td>\n",
       "      <td>50</td>\n",
       "      <td>39</td>\n",
       "      <td>26</td>\n",
       "      <td>22</td>\n",
       "      <td>667</td>\n",
       "    </tr>\n",
       "  </tbody>\n",
       "</table>\n",
       "<p>5 rows × 27 columns</p>\n",
       "</div>"
      ],
      "text/plain": [
       "   序号    学校名称    专业 专业等级             地区  专业创设年份  2004  2005  2006  2007  ...  \\\n",
       "0   1    五邑大学  纺织工程    B         广东省江门市    1985     7     5     4     4  ...   \n",
       "1   2  绍兴文理学院  纺织工程    B         浙江省绍兴市    1994     8     7    12    20  ...   \n",
       "2   3    嘉兴大学  纺织工程    B         浙江省嘉兴市    1999     0     0     0     0  ...   \n",
       "3   4  新疆科技学院  纺织工程   --  新疆维吾尔自治区乌鲁木齐市    2011     0     0     0     0  ...   \n",
       "4   5   中原工学院  纺织工程    B         河南省郑州市    1955    34    42    30    33  ...   \n",
       "\n",
       "   2015  2016  2017  2018  2019  2020  2021  2022  2023  二十年论文总数  \n",
       "0    12     7     3     8     3     2     5     1     8       93  \n",
       "1    15    19    10    18    13    11    17    16     8      285  \n",
       "2     0     0     0     0     0     0     0     0     0        0  \n",
       "3     0     0     0     0     0     0     2     2     4        8  \n",
       "4    33    30    43    45    31    50    39    26    22      667  \n",
       "\n",
       "[5 rows x 27 columns]"
      ]
     },
     "execution_count": 7,
     "metadata": {},
     "output_type": "execute_result"
    }
   ],
   "source": [
    "import pandas as pd\n",
    "import numpy as np\n",
    "file_path = r\"\\Users\\z\\Desktop\\数据挖掘\\数据挖掘指定任务\\纺织工程学校名单.xlsx\"\n",
    "df = pd.read_excel(file_path)\n",
    "df.head()"
   ]
  },
  {
   "cell_type": "code",
   "execution_count": 9,
   "id": "174e40b4-4f31-4109-9611-e45cba902951",
   "metadata": {},
   "outputs": [
    {
     "data": {
      "text/html": [
       "<div>\n",
       "<style scoped>\n",
       "    .dataframe tbody tr th:only-of-type {\n",
       "        vertical-align: middle;\n",
       "    }\n",
       "\n",
       "    .dataframe tbody tr th {\n",
       "        vertical-align: top;\n",
       "    }\n",
       "\n",
       "    .dataframe thead th {\n",
       "        text-align: right;\n",
       "    }\n",
       "</style>\n",
       "<table border=\"1\" class=\"dataframe\">\n",
       "  <thead>\n",
       "    <tr style=\"text-align: right;\">\n",
       "      <th></th>\n",
       "      <th>序号</th>\n",
       "      <th>学校名称</th>\n",
       "      <th>专业</th>\n",
       "      <th>专业等级</th>\n",
       "      <th>地区</th>\n",
       "      <th>专业创设年份</th>\n",
       "      <th>2004</th>\n",
       "      <th>2005</th>\n",
       "      <th>2006</th>\n",
       "      <th>2007</th>\n",
       "      <th>...</th>\n",
       "      <th>2015</th>\n",
       "      <th>2016</th>\n",
       "      <th>2017</th>\n",
       "      <th>2018</th>\n",
       "      <th>2019</th>\n",
       "      <th>2020</th>\n",
       "      <th>2021</th>\n",
       "      <th>2022</th>\n",
       "      <th>2023</th>\n",
       "      <th>二十年论文总数</th>\n",
       "    </tr>\n",
       "  </thead>\n",
       "  <tbody>\n",
       "    <tr>\n",
       "      <th>0</th>\n",
       "      <td>1</td>\n",
       "      <td>五邑大学</td>\n",
       "      <td>纺织工程</td>\n",
       "      <td>B</td>\n",
       "      <td>广东省江门市</td>\n",
       "      <td>1985</td>\n",
       "      <td>7</td>\n",
       "      <td>5</td>\n",
       "      <td>4</td>\n",
       "      <td>4</td>\n",
       "      <td>...</td>\n",
       "      <td>12</td>\n",
       "      <td>7</td>\n",
       "      <td>3</td>\n",
       "      <td>8</td>\n",
       "      <td>3</td>\n",
       "      <td>2</td>\n",
       "      <td>5</td>\n",
       "      <td>1</td>\n",
       "      <td>8</td>\n",
       "      <td>93</td>\n",
       "    </tr>\n",
       "    <tr>\n",
       "      <th>1</th>\n",
       "      <td>2</td>\n",
       "      <td>绍兴文理学院</td>\n",
       "      <td>纺织工程</td>\n",
       "      <td>B</td>\n",
       "      <td>浙江省绍兴市</td>\n",
       "      <td>1994</td>\n",
       "      <td>8</td>\n",
       "      <td>7</td>\n",
       "      <td>12</td>\n",
       "      <td>20</td>\n",
       "      <td>...</td>\n",
       "      <td>15</td>\n",
       "      <td>19</td>\n",
       "      <td>10</td>\n",
       "      <td>18</td>\n",
       "      <td>13</td>\n",
       "      <td>11</td>\n",
       "      <td>17</td>\n",
       "      <td>16</td>\n",
       "      <td>8</td>\n",
       "      <td>285</td>\n",
       "    </tr>\n",
       "    <tr>\n",
       "      <th>2</th>\n",
       "      <td>3</td>\n",
       "      <td>嘉兴大学</td>\n",
       "      <td>纺织工程</td>\n",
       "      <td>B</td>\n",
       "      <td>浙江省嘉兴市</td>\n",
       "      <td>1999</td>\n",
       "      <td>0</td>\n",
       "      <td>0</td>\n",
       "      <td>0</td>\n",
       "      <td>0</td>\n",
       "      <td>...</td>\n",
       "      <td>0</td>\n",
       "      <td>0</td>\n",
       "      <td>0</td>\n",
       "      <td>0</td>\n",
       "      <td>0</td>\n",
       "      <td>0</td>\n",
       "      <td>0</td>\n",
       "      <td>0</td>\n",
       "      <td>0</td>\n",
       "      <td>0</td>\n",
       "    </tr>\n",
       "    <tr>\n",
       "      <th>3</th>\n",
       "      <td>4</td>\n",
       "      <td>新疆科技学院</td>\n",
       "      <td>纺织工程</td>\n",
       "      <td>--</td>\n",
       "      <td>新疆维吾尔自治区乌鲁木齐市</td>\n",
       "      <td>2011</td>\n",
       "      <td>0</td>\n",
       "      <td>0</td>\n",
       "      <td>0</td>\n",
       "      <td>0</td>\n",
       "      <td>...</td>\n",
       "      <td>0</td>\n",
       "      <td>0</td>\n",
       "      <td>0</td>\n",
       "      <td>0</td>\n",
       "      <td>0</td>\n",
       "      <td>0</td>\n",
       "      <td>2</td>\n",
       "      <td>2</td>\n",
       "      <td>4</td>\n",
       "      <td>8</td>\n",
       "    </tr>\n",
       "    <tr>\n",
       "      <th>4</th>\n",
       "      <td>5</td>\n",
       "      <td>中原工学院</td>\n",
       "      <td>纺织工程</td>\n",
       "      <td>B</td>\n",
       "      <td>河南省郑州市</td>\n",
       "      <td>1955</td>\n",
       "      <td>34</td>\n",
       "      <td>42</td>\n",
       "      <td>30</td>\n",
       "      <td>33</td>\n",
       "      <td>...</td>\n",
       "      <td>33</td>\n",
       "      <td>30</td>\n",
       "      <td>43</td>\n",
       "      <td>45</td>\n",
       "      <td>31</td>\n",
       "      <td>50</td>\n",
       "      <td>39</td>\n",
       "      <td>26</td>\n",
       "      <td>22</td>\n",
       "      <td>667</td>\n",
       "    </tr>\n",
       "    <tr>\n",
       "      <th>5</th>\n",
       "      <td>6</td>\n",
       "      <td>江西服装学院</td>\n",
       "      <td>纺织工程</td>\n",
       "      <td>--</td>\n",
       "      <td>江西省南昌市</td>\n",
       "      <td>1991</td>\n",
       "      <td>0</td>\n",
       "      <td>0</td>\n",
       "      <td>0</td>\n",
       "      <td>0</td>\n",
       "      <td>...</td>\n",
       "      <td>8</td>\n",
       "      <td>20</td>\n",
       "      <td>13</td>\n",
       "      <td>22</td>\n",
       "      <td>17</td>\n",
       "      <td>10</td>\n",
       "      <td>14</td>\n",
       "      <td>7</td>\n",
       "      <td>6</td>\n",
       "      <td>137</td>\n",
       "    </tr>\n",
       "    <tr>\n",
       "      <th>6</th>\n",
       "      <td>7</td>\n",
       "      <td>青岛大学</td>\n",
       "      <td>纺织工程</td>\n",
       "      <td>B+</td>\n",
       "      <td>山东省青岛市</td>\n",
       "      <td>1993</td>\n",
       "      <td>29</td>\n",
       "      <td>31</td>\n",
       "      <td>34</td>\n",
       "      <td>47</td>\n",
       "      <td>...</td>\n",
       "      <td>11</td>\n",
       "      <td>33</td>\n",
       "      <td>40</td>\n",
       "      <td>34</td>\n",
       "      <td>41</td>\n",
       "      <td>31</td>\n",
       "      <td>33</td>\n",
       "      <td>47</td>\n",
       "      <td>37</td>\n",
       "      <td>639</td>\n",
       "    </tr>\n",
       "    <tr>\n",
       "      <th>7</th>\n",
       "      <td>8</td>\n",
       "      <td>苏州大学</td>\n",
       "      <td>纺织工程</td>\n",
       "      <td>A</td>\n",
       "      <td>江苏省苏州市</td>\n",
       "      <td>1900</td>\n",
       "      <td>49</td>\n",
       "      <td>53</td>\n",
       "      <td>52</td>\n",
       "      <td>71</td>\n",
       "      <td>...</td>\n",
       "      <td>27</td>\n",
       "      <td>56</td>\n",
       "      <td>60</td>\n",
       "      <td>42</td>\n",
       "      <td>40</td>\n",
       "      <td>34</td>\n",
       "      <td>51</td>\n",
       "      <td>48</td>\n",
       "      <td>28</td>\n",
       "      <td>1043</td>\n",
       "    </tr>\n",
       "    <tr>\n",
       "      <th>8</th>\n",
       "      <td>9</td>\n",
       "      <td>常熟理工学院</td>\n",
       "      <td>纺织工程</td>\n",
       "      <td>--</td>\n",
       "      <td>江苏省常熟市</td>\n",
       "      <td>1958</td>\n",
       "      <td>0</td>\n",
       "      <td>1</td>\n",
       "      <td>0</td>\n",
       "      <td>0</td>\n",
       "      <td>...</td>\n",
       "      <td>2</td>\n",
       "      <td>1</td>\n",
       "      <td>2</td>\n",
       "      <td>0</td>\n",
       "      <td>3</td>\n",
       "      <td>5</td>\n",
       "      <td>5</td>\n",
       "      <td>5</td>\n",
       "      <td>6</td>\n",
       "      <td>37</td>\n",
       "    </tr>\n",
       "    <tr>\n",
       "      <th>9</th>\n",
       "      <td>10</td>\n",
       "      <td>泉州师范学院</td>\n",
       "      <td>纺织工程</td>\n",
       "      <td>--</td>\n",
       "      <td>福建省泉州市</td>\n",
       "      <td>1958</td>\n",
       "      <td>0</td>\n",
       "      <td>0</td>\n",
       "      <td>0</td>\n",
       "      <td>1</td>\n",
       "      <td>...</td>\n",
       "      <td>4</td>\n",
       "      <td>1</td>\n",
       "      <td>3</td>\n",
       "      <td>1</td>\n",
       "      <td>3</td>\n",
       "      <td>2</td>\n",
       "      <td>3</td>\n",
       "      <td>13</td>\n",
       "      <td>7</td>\n",
       "      <td>51</td>\n",
       "    </tr>\n",
       "    <tr>\n",
       "      <th>10</th>\n",
       "      <td>11</td>\n",
       "      <td>新疆大学</td>\n",
       "      <td>纺织工程</td>\n",
       "      <td>B</td>\n",
       "      <td>新疆维吾尔自治区乌鲁木齐市</td>\n",
       "      <td>1924</td>\n",
       "      <td>4</td>\n",
       "      <td>4</td>\n",
       "      <td>5</td>\n",
       "      <td>6</td>\n",
       "      <td>...</td>\n",
       "      <td>15</td>\n",
       "      <td>11</td>\n",
       "      <td>17</td>\n",
       "      <td>16</td>\n",
       "      <td>13</td>\n",
       "      <td>24</td>\n",
       "      <td>18</td>\n",
       "      <td>24</td>\n",
       "      <td>20</td>\n",
       "      <td>253</td>\n",
       "    </tr>\n",
       "    <tr>\n",
       "      <th>11</th>\n",
       "      <td>12</td>\n",
       "      <td>嘉兴南湖学院</td>\n",
       "      <td>纺织工程</td>\n",
       "      <td>--</td>\n",
       "      <td>浙江省嘉兴市</td>\n",
       "      <td>2000</td>\n",
       "      <td>0</td>\n",
       "      <td>0</td>\n",
       "      <td>0</td>\n",
       "      <td>0</td>\n",
       "      <td>...</td>\n",
       "      <td>0</td>\n",
       "      <td>0</td>\n",
       "      <td>0</td>\n",
       "      <td>0</td>\n",
       "      <td>0</td>\n",
       "      <td>0</td>\n",
       "      <td>1</td>\n",
       "      <td>1</td>\n",
       "      <td>0</td>\n",
       "      <td>2</td>\n",
       "    </tr>\n",
       "    <tr>\n",
       "      <th>12</th>\n",
       "      <td>13</td>\n",
       "      <td>绍兴文理学院元培学院</td>\n",
       "      <td>纺织工程</td>\n",
       "      <td>--</td>\n",
       "      <td>浙江省绍兴市</td>\n",
       "      <td>1999</td>\n",
       "      <td>0</td>\n",
       "      <td>0</td>\n",
       "      <td>0</td>\n",
       "      <td>1</td>\n",
       "      <td>...</td>\n",
       "      <td>3</td>\n",
       "      <td>6</td>\n",
       "      <td>1</td>\n",
       "      <td>3</td>\n",
       "      <td>0</td>\n",
       "      <td>3</td>\n",
       "      <td>3</td>\n",
       "      <td>3</td>\n",
       "      <td>1</td>\n",
       "      <td>43</td>\n",
       "    </tr>\n",
       "    <tr>\n",
       "      <th>13</th>\n",
       "      <td>14</td>\n",
       "      <td>浙江理工大学科技与艺术学院</td>\n",
       "      <td>纺织工程</td>\n",
       "      <td>--</td>\n",
       "      <td>浙江省杭州市</td>\n",
       "      <td>1999</td>\n",
       "      <td>0</td>\n",
       "      <td>0</td>\n",
       "      <td>0</td>\n",
       "      <td>0</td>\n",
       "      <td>...</td>\n",
       "      <td>2</td>\n",
       "      <td>2</td>\n",
       "      <td>6</td>\n",
       "      <td>2</td>\n",
       "      <td>1</td>\n",
       "      <td>0</td>\n",
       "      <td>0</td>\n",
       "      <td>3</td>\n",
       "      <td>2</td>\n",
       "      <td>27</td>\n",
       "    </tr>\n",
       "    <tr>\n",
       "      <th>14</th>\n",
       "      <td>15</td>\n",
       "      <td>烟台南山学院</td>\n",
       "      <td>纺织工程</td>\n",
       "      <td>--</td>\n",
       "      <td>山东省烟台市</td>\n",
       "      <td>1991</td>\n",
       "      <td>0</td>\n",
       "      <td>0</td>\n",
       "      <td>1</td>\n",
       "      <td>0</td>\n",
       "      <td>...</td>\n",
       "      <td>0</td>\n",
       "      <td>2</td>\n",
       "      <td>6</td>\n",
       "      <td>0</td>\n",
       "      <td>6</td>\n",
       "      <td>3</td>\n",
       "      <td>4</td>\n",
       "      <td>3</td>\n",
       "      <td>4</td>\n",
       "      <td>31</td>\n",
       "    </tr>\n",
       "    <tr>\n",
       "      <th>15</th>\n",
       "      <td>16</td>\n",
       "      <td>河南工程学院</td>\n",
       "      <td>纺织工程</td>\n",
       "      <td>--</td>\n",
       "      <td>河南省郑州市</td>\n",
       "      <td>2007</td>\n",
       "      <td>0</td>\n",
       "      <td>0</td>\n",
       "      <td>0</td>\n",
       "      <td>5</td>\n",
       "      <td>...</td>\n",
       "      <td>25</td>\n",
       "      <td>22</td>\n",
       "      <td>14</td>\n",
       "      <td>19</td>\n",
       "      <td>13</td>\n",
       "      <td>10</td>\n",
       "      <td>9</td>\n",
       "      <td>13</td>\n",
       "      <td>10</td>\n",
       "      <td>280</td>\n",
       "    </tr>\n",
       "    <tr>\n",
       "      <th>16</th>\n",
       "      <td>17</td>\n",
       "      <td>塔里木大学</td>\n",
       "      <td>纺织工程</td>\n",
       "      <td>--</td>\n",
       "      <td>新疆维吾尔自治区阿克苏市</td>\n",
       "      <td>1958</td>\n",
       "      <td>0</td>\n",
       "      <td>0</td>\n",
       "      <td>0</td>\n",
       "      <td>0</td>\n",
       "      <td>...</td>\n",
       "      <td>0</td>\n",
       "      <td>1</td>\n",
       "      <td>0</td>\n",
       "      <td>0</td>\n",
       "      <td>0</td>\n",
       "      <td>1</td>\n",
       "      <td>1</td>\n",
       "      <td>3</td>\n",
       "      <td>1</td>\n",
       "      <td>9</td>\n",
       "    </tr>\n",
       "    <tr>\n",
       "      <th>17</th>\n",
       "      <td>18</td>\n",
       "      <td>西南大学</td>\n",
       "      <td>纺织工程</td>\n",
       "      <td>B+</td>\n",
       "      <td>重庆市</td>\n",
       "      <td>2005</td>\n",
       "      <td>0</td>\n",
       "      <td>0</td>\n",
       "      <td>1</td>\n",
       "      <td>1</td>\n",
       "      <td>...</td>\n",
       "      <td>4</td>\n",
       "      <td>5</td>\n",
       "      <td>6</td>\n",
       "      <td>1</td>\n",
       "      <td>1</td>\n",
       "      <td>6</td>\n",
       "      <td>5</td>\n",
       "      <td>9</td>\n",
       "      <td>4</td>\n",
       "      <td>60</td>\n",
       "    </tr>\n",
       "    <tr>\n",
       "      <th>18</th>\n",
       "      <td>19</td>\n",
       "      <td>南通大学</td>\n",
       "      <td>纺织工程</td>\n",
       "      <td>B+</td>\n",
       "      <td>江苏省南通市</td>\n",
       "      <td>2004</td>\n",
       "      <td>3</td>\n",
       "      <td>9</td>\n",
       "      <td>17</td>\n",
       "      <td>7</td>\n",
       "      <td>...</td>\n",
       "      <td>5</td>\n",
       "      <td>14</td>\n",
       "      <td>11</td>\n",
       "      <td>7</td>\n",
       "      <td>10</td>\n",
       "      <td>9</td>\n",
       "      <td>15</td>\n",
       "      <td>9</td>\n",
       "      <td>6</td>\n",
       "      <td>220</td>\n",
       "    </tr>\n",
       "    <tr>\n",
       "      <th>19</th>\n",
       "      <td>20</td>\n",
       "      <td>山东理工大学</td>\n",
       "      <td>纺织工程</td>\n",
       "      <td>--</td>\n",
       "      <td>山东省淄博市</td>\n",
       "      <td>1956</td>\n",
       "      <td>0</td>\n",
       "      <td>0</td>\n",
       "      <td>3</td>\n",
       "      <td>2</td>\n",
       "      <td>...</td>\n",
       "      <td>3</td>\n",
       "      <td>5</td>\n",
       "      <td>4</td>\n",
       "      <td>5</td>\n",
       "      <td>6</td>\n",
       "      <td>7</td>\n",
       "      <td>9</td>\n",
       "      <td>5</td>\n",
       "      <td>3</td>\n",
       "      <td>70</td>\n",
       "    </tr>\n",
       "    <tr>\n",
       "      <th>20</th>\n",
       "      <td>21</td>\n",
       "      <td>广西科技大学</td>\n",
       "      <td>纺织工程</td>\n",
       "      <td>--</td>\n",
       "      <td>广西壮族自治区贵港市</td>\n",
       "      <td>2013</td>\n",
       "      <td>0</td>\n",
       "      <td>0</td>\n",
       "      <td>0</td>\n",
       "      <td>0</td>\n",
       "      <td>...</td>\n",
       "      <td>3</td>\n",
       "      <td>1</td>\n",
       "      <td>5</td>\n",
       "      <td>5</td>\n",
       "      <td>2</td>\n",
       "      <td>1</td>\n",
       "      <td>1</td>\n",
       "      <td>1</td>\n",
       "      <td>6</td>\n",
       "      <td>33</td>\n",
       "    </tr>\n",
       "    <tr>\n",
       "      <th>21</th>\n",
       "      <td>22</td>\n",
       "      <td>内蒙古工业大学</td>\n",
       "      <td>纺织工程</td>\n",
       "      <td>--</td>\n",
       "      <td>内蒙古自治区包头市</td>\n",
       "      <td>1951</td>\n",
       "      <td>0</td>\n",
       "      <td>0</td>\n",
       "      <td>0</td>\n",
       "      <td>0</td>\n",
       "      <td>...</td>\n",
       "      <td>6</td>\n",
       "      <td>0</td>\n",
       "      <td>0</td>\n",
       "      <td>0</td>\n",
       "      <td>1</td>\n",
       "      <td>5</td>\n",
       "      <td>0</td>\n",
       "      <td>0</td>\n",
       "      <td>0</td>\n",
       "      <td>18</td>\n",
       "    </tr>\n",
       "    <tr>\n",
       "      <th>22</th>\n",
       "      <td>23</td>\n",
       "      <td>闽江学院</td>\n",
       "      <td>纺织工程</td>\n",
       "      <td>B</td>\n",
       "      <td>福建省福州市</td>\n",
       "      <td>2002</td>\n",
       "      <td>0</td>\n",
       "      <td>0</td>\n",
       "      <td>3</td>\n",
       "      <td>2</td>\n",
       "      <td>...</td>\n",
       "      <td>4</td>\n",
       "      <td>6</td>\n",
       "      <td>6</td>\n",
       "      <td>8</td>\n",
       "      <td>1</td>\n",
       "      <td>6</td>\n",
       "      <td>7</td>\n",
       "      <td>6</td>\n",
       "      <td>4</td>\n",
       "      <td>83</td>\n",
       "    </tr>\n",
       "    <tr>\n",
       "      <th>23</th>\n",
       "      <td>24</td>\n",
       "      <td>武汉纺织大学</td>\n",
       "      <td>纺织工程</td>\n",
       "      <td>B+</td>\n",
       "      <td>湖北省武汉市</td>\n",
       "      <td>1958</td>\n",
       "      <td>0</td>\n",
       "      <td>0</td>\n",
       "      <td>0</td>\n",
       "      <td>0</td>\n",
       "      <td>...</td>\n",
       "      <td>107</td>\n",
       "      <td>131</td>\n",
       "      <td>165</td>\n",
       "      <td>106</td>\n",
       "      <td>95</td>\n",
       "      <td>188</td>\n",
       "      <td>271</td>\n",
       "      <td>374</td>\n",
       "      <td>399</td>\n",
       "      <td>2289</td>\n",
       "    </tr>\n",
       "    <tr>\n",
       "      <th>24</th>\n",
       "      <td>25</td>\n",
       "      <td>齐齐哈尔大学</td>\n",
       "      <td>纺织工程</td>\n",
       "      <td>--</td>\n",
       "      <td>黑龙江省齐齐哈尔市</td>\n",
       "      <td>1952</td>\n",
       "      <td>3</td>\n",
       "      <td>0</td>\n",
       "      <td>1</td>\n",
       "      <td>5</td>\n",
       "      <td>...</td>\n",
       "      <td>8</td>\n",
       "      <td>2</td>\n",
       "      <td>6</td>\n",
       "      <td>5</td>\n",
       "      <td>2</td>\n",
       "      <td>4</td>\n",
       "      <td>7</td>\n",
       "      <td>6</td>\n",
       "      <td>4</td>\n",
       "      <td>84</td>\n",
       "    </tr>\n",
       "    <tr>\n",
       "      <th>25</th>\n",
       "      <td>26</td>\n",
       "      <td>湖南工程学院</td>\n",
       "      <td>纺织工程</td>\n",
       "      <td>B</td>\n",
       "      <td>湖南省娄底市</td>\n",
       "      <td>2000</td>\n",
       "      <td>4</td>\n",
       "      <td>6</td>\n",
       "      <td>2</td>\n",
       "      <td>4</td>\n",
       "      <td>...</td>\n",
       "      <td>5</td>\n",
       "      <td>10</td>\n",
       "      <td>18</td>\n",
       "      <td>13</td>\n",
       "      <td>19</td>\n",
       "      <td>12</td>\n",
       "      <td>10</td>\n",
       "      <td>11</td>\n",
       "      <td>9</td>\n",
       "      <td>139</td>\n",
       "    </tr>\n",
       "    <tr>\n",
       "      <th>26</th>\n",
       "      <td>27</td>\n",
       "      <td>西安工程大学</td>\n",
       "      <td>纺织工程</td>\n",
       "      <td>B+</td>\n",
       "      <td>陕西省西安市</td>\n",
       "      <td>1978</td>\n",
       "      <td>1</td>\n",
       "      <td>7</td>\n",
       "      <td>36</td>\n",
       "      <td>48</td>\n",
       "      <td>...</td>\n",
       "      <td>107</td>\n",
       "      <td>142</td>\n",
       "      <td>107</td>\n",
       "      <td>97</td>\n",
       "      <td>84</td>\n",
       "      <td>82</td>\n",
       "      <td>93</td>\n",
       "      <td>52</td>\n",
       "      <td>61</td>\n",
       "      <td>1550</td>\n",
       "    </tr>\n",
       "    <tr>\n",
       "      <th>27</th>\n",
       "      <td>28</td>\n",
       "      <td>安徽工程大学</td>\n",
       "      <td>纺织工程</td>\n",
       "      <td>B</td>\n",
       "      <td>安徽省芜湖市</td>\n",
       "      <td>2001</td>\n",
       "      <td>0</td>\n",
       "      <td>0</td>\n",
       "      <td>0</td>\n",
       "      <td>0</td>\n",
       "      <td>...</td>\n",
       "      <td>8</td>\n",
       "      <td>12</td>\n",
       "      <td>21</td>\n",
       "      <td>10</td>\n",
       "      <td>12</td>\n",
       "      <td>12</td>\n",
       "      <td>14</td>\n",
       "      <td>19</td>\n",
       "      <td>18</td>\n",
       "      <td>168</td>\n",
       "    </tr>\n",
       "    <tr>\n",
       "      <th>28</th>\n",
       "      <td>29</td>\n",
       "      <td>上海工程技术大学</td>\n",
       "      <td>纺织工程</td>\n",
       "      <td>B+</td>\n",
       "      <td>上海市</td>\n",
       "      <td>1985</td>\n",
       "      <td>10</td>\n",
       "      <td>9</td>\n",
       "      <td>8</td>\n",
       "      <td>5</td>\n",
       "      <td>...</td>\n",
       "      <td>13</td>\n",
       "      <td>22</td>\n",
       "      <td>9</td>\n",
       "      <td>16</td>\n",
       "      <td>12</td>\n",
       "      <td>16</td>\n",
       "      <td>21</td>\n",
       "      <td>21</td>\n",
       "      <td>10</td>\n",
       "      <td>236</td>\n",
       "    </tr>\n",
       "    <tr>\n",
       "      <th>29</th>\n",
       "      <td>30</td>\n",
       "      <td>浙江理工大学</td>\n",
       "      <td>纺织工程</td>\n",
       "      <td>A</td>\n",
       "      <td>浙江省杭州市</td>\n",
       "      <td>1897</td>\n",
       "      <td>8</td>\n",
       "      <td>25</td>\n",
       "      <td>24</td>\n",
       "      <td>38</td>\n",
       "      <td>...</td>\n",
       "      <td>65</td>\n",
       "      <td>81</td>\n",
       "      <td>65</td>\n",
       "      <td>77</td>\n",
       "      <td>66</td>\n",
       "      <td>80</td>\n",
       "      <td>109</td>\n",
       "      <td>112</td>\n",
       "      <td>113</td>\n",
       "      <td>1320</td>\n",
       "    </tr>\n",
       "    <tr>\n",
       "      <th>30</th>\n",
       "      <td>31</td>\n",
       "      <td>大连工业大学</td>\n",
       "      <td>纺织工程</td>\n",
       "      <td>B</td>\n",
       "      <td>辽宁省大连市</td>\n",
       "      <td>1958</td>\n",
       "      <td>0</td>\n",
       "      <td>0</td>\n",
       "      <td>0</td>\n",
       "      <td>1</td>\n",
       "      <td>...</td>\n",
       "      <td>16</td>\n",
       "      <td>11</td>\n",
       "      <td>11</td>\n",
       "      <td>9</td>\n",
       "      <td>14</td>\n",
       "      <td>11</td>\n",
       "      <td>7</td>\n",
       "      <td>6</td>\n",
       "      <td>6</td>\n",
       "      <td>159</td>\n",
       "    </tr>\n",
       "    <tr>\n",
       "      <th>31</th>\n",
       "      <td>32</td>\n",
       "      <td>辽东学院</td>\n",
       "      <td>纺织工程</td>\n",
       "      <td>--</td>\n",
       "      <td>辽宁省丹东市</td>\n",
       "      <td>2003</td>\n",
       "      <td>15</td>\n",
       "      <td>18</td>\n",
       "      <td>20</td>\n",
       "      <td>27</td>\n",
       "      <td>...</td>\n",
       "      <td>4</td>\n",
       "      <td>9</td>\n",
       "      <td>7</td>\n",
       "      <td>17</td>\n",
       "      <td>12</td>\n",
       "      <td>10</td>\n",
       "      <td>6</td>\n",
       "      <td>3</td>\n",
       "      <td>5</td>\n",
       "      <td>225</td>\n",
       "    </tr>\n",
       "    <tr>\n",
       "      <th>32</th>\n",
       "      <td>33</td>\n",
       "      <td>盐城工学院</td>\n",
       "      <td>纺织工程</td>\n",
       "      <td>--</td>\n",
       "      <td>江苏省盐城市</td>\n",
       "      <td>1958</td>\n",
       "      <td>2</td>\n",
       "      <td>2</td>\n",
       "      <td>2</td>\n",
       "      <td>8</td>\n",
       "      <td>...</td>\n",
       "      <td>8</td>\n",
       "      <td>10</td>\n",
       "      <td>7</td>\n",
       "      <td>8</td>\n",
       "      <td>8</td>\n",
       "      <td>6</td>\n",
       "      <td>12</td>\n",
       "      <td>7</td>\n",
       "      <td>6</td>\n",
       "      <td>149</td>\n",
       "    </tr>\n",
       "    <tr>\n",
       "      <th>33</th>\n",
       "      <td>34</td>\n",
       "      <td>太原理工大学</td>\n",
       "      <td>纺织工程</td>\n",
       "      <td>B+</td>\n",
       "      <td>山西省太原市</td>\n",
       "      <td>1902</td>\n",
       "      <td>3</td>\n",
       "      <td>5</td>\n",
       "      <td>6</td>\n",
       "      <td>6</td>\n",
       "      <td>...</td>\n",
       "      <td>6</td>\n",
       "      <td>12</td>\n",
       "      <td>2</td>\n",
       "      <td>5</td>\n",
       "      <td>6</td>\n",
       "      <td>6</td>\n",
       "      <td>5</td>\n",
       "      <td>8</td>\n",
       "      <td>6</td>\n",
       "      <td>145</td>\n",
       "    </tr>\n",
       "    <tr>\n",
       "      <th>34</th>\n",
       "      <td>35</td>\n",
       "      <td>东华大学</td>\n",
       "      <td>纺织工程</td>\n",
       "      <td>A+</td>\n",
       "      <td>上海市</td>\n",
       "      <td>1951</td>\n",
       "      <td>162</td>\n",
       "      <td>218</td>\n",
       "      <td>198</td>\n",
       "      <td>221</td>\n",
       "      <td>...</td>\n",
       "      <td>146</td>\n",
       "      <td>187</td>\n",
       "      <td>179</td>\n",
       "      <td>160</td>\n",
       "      <td>145</td>\n",
       "      <td>155</td>\n",
       "      <td>159</td>\n",
       "      <td>243</td>\n",
       "      <td>159</td>\n",
       "      <td>3784</td>\n",
       "    </tr>\n",
       "    <tr>\n",
       "      <th>35</th>\n",
       "      <td>36</td>\n",
       "      <td>江南大学</td>\n",
       "      <td>纺织工程</td>\n",
       "      <td>A+</td>\n",
       "      <td>江苏省无锡市</td>\n",
       "      <td>2001</td>\n",
       "      <td>30</td>\n",
       "      <td>34</td>\n",
       "      <td>48</td>\n",
       "      <td>60</td>\n",
       "      <td>...</td>\n",
       "      <td>76</td>\n",
       "      <td>63</td>\n",
       "      <td>73</td>\n",
       "      <td>89</td>\n",
       "      <td>109</td>\n",
       "      <td>78</td>\n",
       "      <td>82</td>\n",
       "      <td>82</td>\n",
       "      <td>77</td>\n",
       "      <td>1300</td>\n",
       "    </tr>\n",
       "    <tr>\n",
       "      <th>36</th>\n",
       "      <td>37</td>\n",
       "      <td>天津工业大学</td>\n",
       "      <td>纺织工程</td>\n",
       "      <td>A+</td>\n",
       "      <td>天津市</td>\n",
       "      <td>1912</td>\n",
       "      <td>71</td>\n",
       "      <td>129</td>\n",
       "      <td>122</td>\n",
       "      <td>106</td>\n",
       "      <td>...</td>\n",
       "      <td>57</td>\n",
       "      <td>108</td>\n",
       "      <td>123</td>\n",
       "      <td>113</td>\n",
       "      <td>91</td>\n",
       "      <td>74</td>\n",
       "      <td>84</td>\n",
       "      <td>65</td>\n",
       "      <td>67</td>\n",
       "      <td>1707</td>\n",
       "    </tr>\n",
       "    <tr>\n",
       "      <th>37</th>\n",
       "      <td>38</td>\n",
       "      <td>安徽农业大学</td>\n",
       "      <td>纺织工程</td>\n",
       "      <td>B</td>\n",
       "      <td>安徽省合肥市</td>\n",
       "      <td>1928</td>\n",
       "      <td>1</td>\n",
       "      <td>2</td>\n",
       "      <td>2</td>\n",
       "      <td>3</td>\n",
       "      <td>...</td>\n",
       "      <td>3</td>\n",
       "      <td>3</td>\n",
       "      <td>2</td>\n",
       "      <td>3</td>\n",
       "      <td>5</td>\n",
       "      <td>2</td>\n",
       "      <td>2</td>\n",
       "      <td>1</td>\n",
       "      <td>2</td>\n",
       "      <td>55</td>\n",
       "    </tr>\n",
       "    <tr>\n",
       "      <th>38</th>\n",
       "      <td>39</td>\n",
       "      <td>德州学院</td>\n",
       "      <td>纺织工程</td>\n",
       "      <td>--</td>\n",
       "      <td>山东省德州市</td>\n",
       "      <td>1971</td>\n",
       "      <td>12</td>\n",
       "      <td>19</td>\n",
       "      <td>21</td>\n",
       "      <td>27</td>\n",
       "      <td>...</td>\n",
       "      <td>3</td>\n",
       "      <td>2</td>\n",
       "      <td>4</td>\n",
       "      <td>3</td>\n",
       "      <td>4</td>\n",
       "      <td>0</td>\n",
       "      <td>1</td>\n",
       "      <td>2</td>\n",
       "      <td>3</td>\n",
       "      <td>150</td>\n",
       "    </tr>\n",
       "    <tr>\n",
       "      <th>39</th>\n",
       "      <td>40</td>\n",
       "      <td>河北科技大学</td>\n",
       "      <td>纺织工程</td>\n",
       "      <td>B</td>\n",
       "      <td>河北省石家庄市</td>\n",
       "      <td>1956</td>\n",
       "      <td>17</td>\n",
       "      <td>15</td>\n",
       "      <td>26</td>\n",
       "      <td>13</td>\n",
       "      <td>...</td>\n",
       "      <td>12</td>\n",
       "      <td>4</td>\n",
       "      <td>9</td>\n",
       "      <td>16</td>\n",
       "      <td>15</td>\n",
       "      <td>10</td>\n",
       "      <td>15</td>\n",
       "      <td>16</td>\n",
       "      <td>10</td>\n",
       "      <td>319</td>\n",
       "    </tr>\n",
       "  </tbody>\n",
       "</table>\n",
       "<p>40 rows × 27 columns</p>\n",
       "</div>"
      ],
      "text/plain": [
       "    序号           学校名称    专业 专业等级             地区  专业创设年份  2004  2005  2006  \\\n",
       "0    1           五邑大学  纺织工程    B         广东省江门市    1985     7     5     4   \n",
       "1    2         绍兴文理学院  纺织工程    B         浙江省绍兴市    1994     8     7    12   \n",
       "2    3           嘉兴大学  纺织工程    B         浙江省嘉兴市    1999     0     0     0   \n",
       "3    4         新疆科技学院  纺织工程   --  新疆维吾尔自治区乌鲁木齐市    2011     0     0     0   \n",
       "4    5          中原工学院  纺织工程    B         河南省郑州市    1955    34    42    30   \n",
       "5    6         江西服装学院  纺织工程   --         江西省南昌市    1991     0     0     0   \n",
       "6    7           青岛大学  纺织工程   B+         山东省青岛市    1993    29    31    34   \n",
       "7    8           苏州大学  纺织工程    A         江苏省苏州市    1900    49    53    52   \n",
       "8    9         常熟理工学院  纺织工程   --         江苏省常熟市    1958     0     1     0   \n",
       "9   10         泉州师范学院  纺织工程   --         福建省泉州市    1958     0     0     0   \n",
       "10  11           新疆大学  纺织工程    B  新疆维吾尔自治区乌鲁木齐市    1924     4     4     5   \n",
       "11  12         嘉兴南湖学院  纺织工程   --         浙江省嘉兴市    2000     0     0     0   \n",
       "12  13     绍兴文理学院元培学院  纺织工程   --         浙江省绍兴市    1999     0     0     0   \n",
       "13  14  浙江理工大学科技与艺术学院  纺织工程   --         浙江省杭州市    1999     0     0     0   \n",
       "14  15         烟台南山学院  纺织工程   --         山东省烟台市    1991     0     0     1   \n",
       "15  16         河南工程学院  纺织工程   --         河南省郑州市    2007     0     0     0   \n",
       "16  17          塔里木大学  纺织工程   --   新疆维吾尔自治区阿克苏市    1958     0     0     0   \n",
       "17  18           西南大学  纺织工程   B+            重庆市    2005     0     0     1   \n",
       "18  19           南通大学  纺织工程   B+         江苏省南通市    2004     3     9    17   \n",
       "19  20         山东理工大学  纺织工程   --         山东省淄博市    1956     0     0     3   \n",
       "20  21         广西科技大学  纺织工程   --     广西壮族自治区贵港市    2013     0     0     0   \n",
       "21  22        内蒙古工业大学  纺织工程   --      内蒙古自治区包头市    1951     0     0     0   \n",
       "22  23           闽江学院  纺织工程    B         福建省福州市    2002     0     0     3   \n",
       "23  24         武汉纺织大学  纺织工程   B+         湖北省武汉市    1958     0     0     0   \n",
       "24  25         齐齐哈尔大学  纺织工程   --      黑龙江省齐齐哈尔市    1952     3     0     1   \n",
       "25  26         湖南工程学院  纺织工程    B         湖南省娄底市    2000     4     6     2   \n",
       "26  27         西安工程大学  纺织工程   B+         陕西省西安市    1978     1     7    36   \n",
       "27  28         安徽工程大学  纺织工程    B         安徽省芜湖市    2001     0     0     0   \n",
       "28  29       上海工程技术大学  纺织工程   B+            上海市    1985    10     9     8   \n",
       "29  30         浙江理工大学  纺织工程    A         浙江省杭州市    1897     8    25    24   \n",
       "30  31         大连工业大学  纺织工程    B         辽宁省大连市    1958     0     0     0   \n",
       "31  32           辽东学院  纺织工程   --         辽宁省丹东市    2003    15    18    20   \n",
       "32  33          盐城工学院  纺织工程   --         江苏省盐城市    1958     2     2     2   \n",
       "33  34         太原理工大学  纺织工程   B+         山西省太原市    1902     3     5     6   \n",
       "34  35           东华大学  纺织工程   A+            上海市    1951   162   218   198   \n",
       "35  36           江南大学  纺织工程   A+         江苏省无锡市    2001    30    34    48   \n",
       "36  37         天津工业大学  纺织工程   A+            天津市    1912    71   129   122   \n",
       "37  38         安徽农业大学  纺织工程    B         安徽省合肥市    1928     1     2     2   \n",
       "38  39           德州学院  纺织工程   --         山东省德州市    1971    12    19    21   \n",
       "39  40         河北科技大学  纺织工程    B        河北省石家庄市    1956    17    15    26   \n",
       "\n",
       "    2007  ...  2015  2016  2017  2018  2019  2020  2021  2022  2023  二十年论文总数  \n",
       "0      4  ...    12     7     3     8     3     2     5     1     8       93  \n",
       "1     20  ...    15    19    10    18    13    11    17    16     8      285  \n",
       "2      0  ...     0     0     0     0     0     0     0     0     0        0  \n",
       "3      0  ...     0     0     0     0     0     0     2     2     4        8  \n",
       "4     33  ...    33    30    43    45    31    50    39    26    22      667  \n",
       "5      0  ...     8    20    13    22    17    10    14     7     6      137  \n",
       "6     47  ...    11    33    40    34    41    31    33    47    37      639  \n",
       "7     71  ...    27    56    60    42    40    34    51    48    28     1043  \n",
       "8      0  ...     2     1     2     0     3     5     5     5     6       37  \n",
       "9      1  ...     4     1     3     1     3     2     3    13     7       51  \n",
       "10     6  ...    15    11    17    16    13    24    18    24    20      253  \n",
       "11     0  ...     0     0     0     0     0     0     1     1     0        2  \n",
       "12     1  ...     3     6     1     3     0     3     3     3     1       43  \n",
       "13     0  ...     2     2     6     2     1     0     0     3     2       27  \n",
       "14     0  ...     0     2     6     0     6     3     4     3     4       31  \n",
       "15     5  ...    25    22    14    19    13    10     9    13    10      280  \n",
       "16     0  ...     0     1     0     0     0     1     1     3     1        9  \n",
       "17     1  ...     4     5     6     1     1     6     5     9     4       60  \n",
       "18     7  ...     5    14    11     7    10     9    15     9     6      220  \n",
       "19     2  ...     3     5     4     5     6     7     9     5     3       70  \n",
       "20     0  ...     3     1     5     5     2     1     1     1     6       33  \n",
       "21     0  ...     6     0     0     0     1     5     0     0     0       18  \n",
       "22     2  ...     4     6     6     8     1     6     7     6     4       83  \n",
       "23     0  ...   107   131   165   106    95   188   271   374   399     2289  \n",
       "24     5  ...     8     2     6     5     2     4     7     6     4       84  \n",
       "25     4  ...     5    10    18    13    19    12    10    11     9      139  \n",
       "26    48  ...   107   142   107    97    84    82    93    52    61     1550  \n",
       "27     0  ...     8    12    21    10    12    12    14    19    18      168  \n",
       "28     5  ...    13    22     9    16    12    16    21    21    10      236  \n",
       "29    38  ...    65    81    65    77    66    80   109   112   113     1320  \n",
       "30     1  ...    16    11    11     9    14    11     7     6     6      159  \n",
       "31    27  ...     4     9     7    17    12    10     6     3     5      225  \n",
       "32     8  ...     8    10     7     8     8     6    12     7     6      149  \n",
       "33     6  ...     6    12     2     5     6     6     5     8     6      145  \n",
       "34   221  ...   146   187   179   160   145   155   159   243   159     3784  \n",
       "35    60  ...    76    63    73    89   109    78    82    82    77     1300  \n",
       "36   106  ...    57   108   123   113    91    74    84    65    67     1707  \n",
       "37     3  ...     3     3     2     3     5     2     2     1     2       55  \n",
       "38    27  ...     3     2     4     3     4     0     1     2     3      150  \n",
       "39    13  ...    12     4     9    16    15    10    15    16    10      319  \n",
       "\n",
       "[40 rows x 27 columns]"
      ]
     },
     "execution_count": 9,
     "metadata": {},
     "output_type": "execute_result"
    }
   ],
   "source": [
    "df"
   ]
  },
  {
   "cell_type": "code",
   "execution_count": 11,
   "id": "9cb0e907-b048-4631-ba09-00c4203978c3",
   "metadata": {},
   "outputs": [
    {
     "data": {
      "text/plain": [
       "count      40.000000\n",
       "mean     1971.600000\n",
       "std        33.073965\n",
       "min      1897.000000\n",
       "25%      1955.750000\n",
       "50%      1981.500000\n",
       "75%      2000.000000\n",
       "max      2013.000000\n",
       "Name: 专业创设年份, dtype: float64"
      ]
     },
     "execution_count": 11,
     "metadata": {},
     "output_type": "execute_result"
    }
   ],
   "source": [
    "df['专业创设年份'].describe()"
   ]
  },
  {
   "cell_type": "code",
   "execution_count": 13,
   "id": "278e008a-b969-4344-b922-420bc70fc973",
   "metadata": {},
   "outputs": [
    {
     "name": "stdout",
     "output_type": "stream",
     "text": [
      "NaN 值的数量: 0\n",
      "年份区间\n",
      "1900-1950     5\n",
      "1950-1970    12\n",
      "1970-1990     4\n",
      "1990-2010    16\n",
      "2010-2020     2\n",
      "Name: count, dtype: int64\n"
     ]
    },
    {
     "data": {
      "image/png": "[encoded data removed]",
      "text/plain": [
       "<Figure size 1000x800 with 1 Axes>"
      ]
     },
     "metadata": {},
     "output_type": "display_data"
    }
   ],
   "source": [
    "import pandas as pd\n",
    "import numpy as np\n",
    "import matplotlib.pyplot as plt\n",
    "import seaborn as sns\n",
    "from matplotlib import font_manager\n",
    "\n",
    "# 设置 Matplotlib 支持中文，手动指定字体路径\n",
    "font_path = \"C:/Windows/Fonts/msyh.ttc\"  # 你可以根据自己的环境修改字体路径\n",
    "prop = font_manager.FontProperties(fname=font_path)\n",
    "\n",
    "# 设置中文字体\n",
    "plt.rcParams['font.sans-serif'] = ['Microsoft YaHei']  # 或者 'STHeiti'，根据你的字体路径选择\n",
    "plt.rcParams['axes.unicode_minus'] = False  # 防止负号显示为方块\n",
    "\n",
    "# 创建 df 的副本，避免修改原始数据\n",
    "df_copy = df.copy()\n",
    "\n",
    "# 检查并转换 '专业创设年份' 列为数值类型，无法转换的值设置为 NaN\n",
    "df_copy.loc[:, '专业创设年份'] = pd.to_numeric(df_copy['专业创设年份'], errors='coerce')\n",
    "\n",
    "# 检查是否有 NaN 值\n",
    "print(f\"NaN 值的数量: {df_copy['专业创设年份'].isna().sum()}\")\n",
    "\n",
    "# 删除包含 NaN 值的行\n",
    "df_copy = df_copy.dropna(subset=['专业创设年份'])\n",
    "\n",
    "# 确保 '专业创设年份' 列为整数类型\n",
    "df_copy.loc[:, '专业创设年份'] = df_copy['专业创设年份'].astype(int)\n",
    "\n",
    "# 继续执行年份区间划分\n",
    "bins = [1900, 1950, 1970, 1990, 2010, 2020]  # 假设的年份区间\n",
    "labels = ['1900-1950', '1950-1970', '1970-1990', '1990-2010', '2010-2020']\n",
    "\n",
    "# 使用 pd.cut 进行年份区间划分\n",
    "df_copy['年份区间'] = pd.cut(df_copy['专业创设年份'], bins=bins, labels=labels, right=False)\n",
    "\n",
    "# 统计各区间学校数量\n",
    "year_counts = df_copy['年份区间'].value_counts().sort_index()\n",
    "\n",
    "# 打印每个区间的学校数量\n",
    "print(year_counts)\n",
    "\n",
    "# 可视化\n",
    "plt.figure(figsize=(10, 8))\n",
    "sns.barplot(x=year_counts.index, y=year_counts.values)\n",
    "\n",
    "# 设置标题和标签\n",
    "plt.title(\"不同年份区间的学校数量\", fontsize=16)\n",
    "plt.xlabel(\"年份区间\", fontsize=12)\n",
    "plt.ylabel(\"学校数量\", fontsize=12)\n",
    "\n",
    "# 显示数值标签\n",
    "for i, value in enumerate(year_counts.values):\n",
    "    plt.text(i, value + 0.01, str(value), ha='center', fontsize=12)\n",
    "\n",
    "# 显示图表\n",
    "plt.xticks(rotation=45)\n",
    "plt.tight_layout()\n",
    "\n",
    "# 保存图像\n",
    "plt.savefig('各学校创建纺织工程专业时间区间.png', dpi=600)\n",
    "\n",
    "# 展示图像\n",
    "plt.show()\n"
   ]
  },
  {
   "cell_type": "code",
   "execution_count": 199,
   "id": "f613f011-17e4-4a70-8200-a3259cc0e30b",
   "metadata": {},
   "outputs": [],
   "source": [
    "#import pandas as pd\n",
    "#import folium\n",
    "#from geopy.geocoders import Nominatim\n",
    "#\n",
    "##创建地理编码器\n",
    "#geolocator = Nominatim(user_agent=\"textile_schools_map\")\n",
    "#\n",
    "##创建地图对象，中心设为中国的中心\n",
    "#map_center = [35.8617, 104.1954]  #中国的地理中心\n",
    "#map = folium.Map(location=map_center, zoom_start=5)\n",
    "#\n",
    "##遍历数据，将学校的位置标记在地图上\n",
    "#for index, row in df.iterrows():\n",
    "#    school_name = row['学校名称']\n",
    "#    location = row['地区']\n",
    "#    \n",
    "#    #获取该地区的经纬度\n",
    "#    location_obj = geolocator.geocode(location)\n",
    "#    \n",
    "#    if location_obj:\n",
    "#        lat, lon = location_obj.latitude, location_obj.longitude\n",
    "#        #在地图上添加标记\n",
    "#        folium.Marker(\n",
    "#            [lat, lon],\n",
    "#            popup=f\"{school_name} ({location})\",\n",
    "#            tooltip=school_name\n",
    "#        ).add_to(map)\n",
    "##保存地图为 HTML 文件\n",
    "#map.save(\"纺织工程院校分布地图.html\")\n",
    "#print(\"地图已保存为 '纺织工程院校分布地图.html'\")"
   ]
  },
  {
   "cell_type": "code",
   "execution_count": 200,
   "id": "71ce0f3e-bb28-4dac-acbf-d810cca1cc19",
   "metadata": {},
   "outputs": [],
   "source": [
    "#from selenium import webdriver\n",
    "#from selenium.webdriver.edge.service import Service\n",
    "#from selenium.webdriver.edge.options import Options\n",
    "## 设置 WebDriver 路径\n",
    "#driver_path = r'C:\\Users\\z\\Downloads\\edgedriver_win32\\msedgedriver.exe' # 这里填入解压后的 msedgedriver.exe 路径\n",
    "## 创建 Edge Options 对象\n",
    "#edge_options = Options()\n",
    "##启动 Edge 浏览器\n",
    "#driver = webdriver.Edge(service=Service(driver_path), options=edge_options)\n",
    "## 打开网页\n",
    "#driver.get(r\"C:\\Users\\z\\Desktop\\数据挖掘\\数据挖掘指定任务\\纺织工程院校分布地图.html\")\n",
    "## 等待几秒钟后保存截图\n",
    "#import time\n",
    "#time.sleep(5)\n",
    "## 截图并保存\n",
    "#driver.save_screenshot(\"纺织工程院校分布地图.png\")\n",
    "## 关闭浏览器\n",
    "#driver.quit()"
   ]
  },
  {
   "cell_type": "markdown",
   "id": "e27a7ed4-deb5-40d7-9920-ce255c74b394",
   "metadata": {},
   "source": [
    "------------------------------------------------------------------------------------------------------------\n",
    "------------------------------------------------------------------------------------------------------------\n",
    "------------------------------------------------------------------------------------------------------------\n",
    "------------------------------------------------------------------------------------------------------------\n",
    "------------------------------------------------------------------------------------------------------------\n",
    "------------------------------------------------------------------------------------------------------------"
   ]
  },
  {
   "cell_type": "code",
   "execution_count": 201,
   "id": "fcf67b48-d65b-4dcc-acb1-67f64e5efef5",
   "metadata": {},
   "outputs": [
    {
     "data": {
      "image/png": "[encoded data removed]",
      "text/plain": [
       "<Figure size 1200x600 with 1 Axes>"
      ]
     },
     "metadata": {},
     "output_type": "display_data"
    }
   ],
   "source": [
    "import pandas as pd\n",
    "import matplotlib.pyplot as plt\n",
    "import seaborn as sns\n",
    "from matplotlib import font_manager\n",
    "\n",
    "# 设置中文支持\n",
    "font_path = \"C:/Windows/Fonts/msyh.ttc\"  # 你可以根据需要调整路径，确保该路径存在\n",
    "prop = font_manager.FontProperties(fname=font_path)\n",
    "# 设置 Matplotlib 支持中文\n",
    "plt.rcParams['font.sans-serif'] = ['Microsoft YaHei']  # 或者 'SimHei', 'STHeiti'，根据你的字体路径选择\n",
    "plt.rcParams['axes.unicode_minus'] = False  # 防止负号显示为方块\n",
    "\n",
    "# 假设 df 已经包含了每个学校单位在2004到2023年间发表的论文数量\n",
    "# 将年份列转换为字符串格式\n",
    "years = [str(year) for year in range(2004, 2024)]  # ['2004', '2005', ..., '2023']\n",
    "# 确保df的列名正确\n",
    "df.columns = df.columns.astype(str)  # 将列名转换为字符串，确保与年份匹配\n",
    "# 按论文总数排序并取前20位学校\n",
    "top_schools = df.sort_values(by='二十年论文总数', ascending=False).head(20)\n",
    "# 提取前20位学校的论文数量，并绘制随时间变化的曲线\n",
    "plt.figure(figsize=(12, 6))  # 设置图像大小\n",
    "sns.set(style=\"whitegrid\")  # 使用白色网格背景\n",
    "# 遍历前20位学校，绘制每个学校的论文数量变化曲线\n",
    "for index, row in top_schools.iterrows():\n",
    "    plt.plot(years, row[years].values, label=row['学校名称'], linewidth=1.5)  # 使用 row[years].values 获取论文数量\n",
    "# 添加标题和标签\n",
    "plt.title(\"近二十年论文发表量最多的前20学校\", fontsize=16, fontweight='bold', fontproperties=prop)\n",
    "plt.xlabel(\"年份\", fontsize=14, fontproperties=prop)\n",
    "plt.ylabel(\"论文发表数量\", fontsize=14, fontproperties=prop)\n",
    "# 设置 X 轴的刻度\n",
    "plt.xticks(rotation=45)  # X 轴标签旋转，防止重叠\n",
    "\n",
    "# 设置 Y 轴范围（根据数据实际情况可以调整）\n",
    "plt.ylim(0, top_schools[years].max().max() * 1.1)  # 让 Y 轴有足够的空间\n",
    "# 调整图例的位置，避免遮挡图像\n",
    "plt.legend(loc=\"upper right\",fontsize=12, bbox_to_anchor=(1, 1), ncol=2, prop=prop)\n",
    "# 保存图像\n",
    "plt.tight_layout()  # 自动调整子图参数，避免标签重叠\n",
    "plt.savefig(\"近二十年论文发表量最多的前20学校.png\", dpi=600)\n",
    "# 展示图像\n",
    "plt.show()"
   ]
  },
  {
   "cell_type": "code",
   "execution_count": 212,
   "id": "8f5ba9f7-7870-47c7-b46e-ddbd60367a4d",
   "metadata": {},
   "outputs": [
    {
     "data": {
      "application/vnd.plotly.v1+json": {
       "config": {
        "plotlyServerURL": "https://plot.ly"
       },
       "data": [
        {
         "domain": {
          "x": [
           0,
           1
          ],
          "y": [
           0,
           1
          ]
         },
         "hovertemplate": "学校=%{label}<br>论文总数=%{value}<extra></extra>",
         "labels": [
          "东华大学",
          "武汉纺织大学",
          "天津工业大学",
          "西安工程大学",
          "浙江理工大学",
          "江南大学",
          "苏州大学",
          "中原工学院",
          "青岛大学",
          "河北科技大学",
          "其他"
         ],
         "legendgroup": "",
         "name": "",
         "pull": [
          0.05,
          0.05,
          0.05,
          0.05,
          0.05,
          0.05,
          0.05,
          0.05,
          0.05,
          0.05,
          0.05
         ],
         "showlegend": true,
         "textinfo": "percent+label",
         "type": "pie",
         "values": [
          3784,
          2289,
          1707,
          1550,
          1320,
          1300,
          1043,
          667,
          639,
          319,
          3250
         ]
        }
       ],
       "layout": {
        "autosize": true,
        "legend": {
         "tracegroupgap": 0
        },
        "template": {
         "data": {
          "bar": [
           {
            "error_x": {
             "color": "#2a3f5f"
            },
            "error_y": {
             "color": "#2a3f5f"
            },
            "marker": {
             "line": {
              "color": "#E5ECF6",
              "width": 0.5
             },
             "pattern": {
              "fillmode": "overlay",
              "size": 10,
              "solidity": 0.2
             }
            },
            "type": "bar"
           }
          ],
          "barpolar": [
           {
            "marker": {
             "line": {
              "color": "#E5ECF6",
              "width": 0.5
             },
             "pattern": {
              "fillmode": "overlay",
              "size": 10,
              "solidity": 0.2
             }
            },
            "type": "barpolar"
           }
          ],
          "carpet": [
           {
            "aaxis": {
             "endlinecolor": "#2a3f5f",
             "gridcolor": "white",
             "linecolor": "white",
             "minorgridcolor": "white",
             "startlinecolor": "#2a3f5f"
            },
            "baxis": {
             "endlinecolor": "#2a3f5f",
             "gridcolor": "white",
             "linecolor": "white",
             "minorgridcolor": "white",
             "startlinecolor": "#2a3f5f"
            },
            "type": "carpet"
           }
          ],
          "choropleth": [
           {
            "colorbar": {
             "outlinewidth": 0,
             "ticks": ""
            },
            "type": "choropleth"
           }
          ],
          "contour": [
           {
            "colorbar": {
             "outlinewidth": 0,
             "ticks": ""
            },
            "colorscale": [
             [
              0,
              "#0d0887"
             ],
             [
              0.1111111111111111,
              "#46039f"
             ],
             [
              0.2222222222222222,
              "#7201a8"
             ],
             [
              0.3333333333333333,
              "#9c179e"
             ],
             [
              0.4444444444444444,
              "#bd3786"
             ],
             [
              0.5555555555555556,
              "#d8576b"
             ],
             [
              0.6666666666666666,
              "#ed7953"
             ],
             [
              0.7777777777777778,
              "#fb9f3a"
             ],
             [
              0.8888888888888888,
              "#fdca26"
             ],
             [
              1,
              "#f0f921"
             ]
            ],
            "type": "contour"
           }
          ],
          "contourcarpet": [
           {
            "colorbar": {
             "outlinewidth": 0,
             "ticks": ""
            },
            "type": "contourcarpet"
           }
          ],
          "heatmap": [
           {
            "colorbar": {
             "outlinewidth": 0,
             "ticks": ""
            },
            "colorscale": [
             [
              0,
              "#0d0887"
             ],
             [
              0.1111111111111111,
              "#46039f"
             ],
             [
              0.2222222222222222,
              "#7201a8"
             ],
             [
              0.3333333333333333,
              "#9c179e"
             ],
             [
              0.4444444444444444,
              "#bd3786"
             ],
             [
              0.5555555555555556,
              "#d8576b"
             ],
             [
              0.6666666666666666,
              "#ed7953"
             ],
             [
              0.7777777777777778,
              "#fb9f3a"
             ],
             [
              0.8888888888888888,
              "#fdca26"
             ],
             [
              1,
              "#f0f921"
             ]
            ],
            "type": "heatmap"
           }
          ],
          "heatmapgl": [
           {
            "colorbar": {
             "outlinewidth": 0,
             "ticks": ""
            },
            "colorscale": [
             [
              0,
              "#0d0887"
             ],
             [
              0.1111111111111111,
              "#46039f"
             ],
             [
              0.2222222222222222,
              "#7201a8"
             ],
             [
              0.3333333333333333,
              "#9c179e"
             ],
             [
              0.4444444444444444,
              "#bd3786"
             ],
             [
              0.5555555555555556,
              "#d8576b"
             ],
             [
              0.6666666666666666,
              "#ed7953"
             ],
             [
              0.7777777777777778,
              "#fb9f3a"
             ],
             [
              0.8888888888888888,
              "#fdca26"
             ],
             [
              1,
              "#f0f921"
             ]
            ],
            "type": "heatmapgl"
           }
          ],
          "histogram": [
           {
            "marker": {
             "pattern": {
              "fillmode": "overlay",
              "size": 10,
              "solidity": 0.2
             }
            },
            "type": "histogram"
           }
          ],
          "histogram2d": [
           {
            "colorbar": {
             "outlinewidth": 0,
             "ticks": ""
            },
            "colorscale": [
             [
              0,
              "#0d0887"
             ],
             [
              0.1111111111111111,
              "#46039f"
             ],
             [
              0.2222222222222222,
              "#7201a8"
             ],
             [
              0.3333333333333333,
              "#9c179e"
             ],
             [
              0.4444444444444444,
              "#bd3786"
             ],
             [
              0.5555555555555556,
              "#d8576b"
             ],
             [
              0.6666666666666666,
              "#ed7953"
             ],
             [
              0.7777777777777778,
              "#fb9f3a"
             ],
             [
              0.8888888888888888,
              "#fdca26"
             ],
             [
              1,
              "#f0f921"
             ]
            ],
            "type": "histogram2d"
           }
          ],
          "histogram2dcontour": [
           {
            "colorbar": {
             "outlinewidth": 0,
             "ticks": ""
            },
            "colorscale": [
             [
              0,
              "#0d0887"
             ],
             [
              0.1111111111111111,
              "#46039f"
             ],
             [
              0.2222222222222222,
              "#7201a8"
             ],
             [
              0.3333333333333333,
              "#9c179e"
             ],
             [
              0.4444444444444444,
              "#bd3786"
             ],
             [
              0.5555555555555556,
              "#d8576b"
             ],
             [
              0.6666666666666666,
              "#ed7953"
             ],
             [
              0.7777777777777778,
              "#fb9f3a"
             ],
             [
              0.8888888888888888,
              "#fdca26"
             ],
             [
              1,
              "#f0f921"
             ]
            ],
            "type": "histogram2dcontour"
           }
          ],
          "mesh3d": [
           {
            "colorbar": {
             "outlinewidth": 0,
             "ticks": ""
            },
            "type": "mesh3d"
           }
          ],
          "parcoords": [
           {
            "line": {
             "colorbar": {
              "outlinewidth": 0,
              "ticks": ""
             }
            },
            "type": "parcoords"
           }
          ],
          "pie": [
           {
            "automargin": true,
            "type": "pie"
           }
          ],
          "scatter": [
           {
            "fillpattern": {
             "fillmode": "overlay",
             "size": 10,
             "solidity": 0.2
            },
            "type": "scatter"
           }
          ],
          "scatter3d": [
           {
            "line": {
             "colorbar": {
              "outlinewidth": 0,
              "ticks": ""
             }
            },
            "marker": {
             "colorbar": {
              "outlinewidth": 0,
              "ticks": ""
             }
            },
            "type": "scatter3d"
           }
          ],
          "scattercarpet": [
           {
            "marker": {
             "colorbar": {
              "outlinewidth": 0,
              "ticks": ""
             }
            },
            "type": "scattercarpet"
           }
          ],
          "scattergeo": [
           {
            "marker": {
             "colorbar": {
              "outlinewidth": 0,
              "ticks": ""
             }
            },
            "type": "scattergeo"
           }
          ],
          "scattergl": [
           {
            "marker": {
             "colorbar": {
              "outlinewidth": 0,
              "ticks": ""
             }
            },
            "type": "scattergl"
           }
          ],
          "scattermapbox": [
           {
            "marker": {
             "colorbar": {
              "outlinewidth": 0,
              "ticks": ""
             }
            },
            "type": "scattermapbox"
           }
          ],
          "scatterpolar": [
           {
            "marker": {
             "colorbar": {
              "outlinewidth": 0,
              "ticks": ""
             }
            },
            "type": "scatterpolar"
           }
          ],
          "scatterpolargl": [
           {
            "marker": {
             "colorbar": {
              "outlinewidth": 0,
              "ticks": ""
             }
            },
            "type": "scatterpolargl"
           }
          ],
          "scatterternary": [
           {
            "marker": {
             "colorbar": {
              "outlinewidth": 0,
              "ticks": ""
             }
            },
            "type": "scatterternary"
           }
          ],
          "surface": [
           {
            "colorbar": {
             "outlinewidth": 0,
             "ticks": ""
            },
            "colorscale": [
             [
              0,
              "#0d0887"
             ],
             [
              0.1111111111111111,
              "#46039f"
             ],
             [
              0.2222222222222222,
              "#7201a8"
             ],
             [
              0.3333333333333333,
              "#9c179e"
             ],
             [
              0.4444444444444444,
              "#bd3786"
             ],
             [
              0.5555555555555556,
              "#d8576b"
             ],
             [
              0.6666666666666666,
              "#ed7953"
             ],
             [
              0.7777777777777778,
              "#fb9f3a"
             ],
             [
              0.8888888888888888,
              "#fdca26"
             ],
             [
              1,
              "#f0f921"
             ]
            ],
            "type": "surface"
           }
          ],
          "table": [
           {
            "cells": {
             "fill": {
              "color": "#EBF0F8"
             },
             "line": {
              "color": "white"
             }
            },
            "header": {
             "fill": {
              "color": "#C8D4E3"
             },
             "line": {
              "color": "white"
             }
            },
            "type": "table"
           }
          ]
         },
         "layout": {
          "annotationdefaults": {
           "arrowcolor": "#2a3f5f",
           "arrowhead": 0,
           "arrowwidth": 1
          },
          "autotypenumbers": "strict",
          "coloraxis": {
           "colorbar": {
            "outlinewidth": 0,
            "ticks": ""
           }
          },
          "colorscale": {
           "diverging": [
            [
             0,
             "#8e0152"
            ],
            [
             0.1,
             "#c51b7d"
            ],
            [
             0.2,
             "#de77ae"
            ],
            [
             0.3,
             "#f1b6da"
            ],
            [
             0.4,
             "#fde0ef"
            ],
            [
             0.5,
             "#f7f7f7"
            ],
            [
             0.6,
             "#e6f5d0"
            ],
            [
             0.7,
             "#b8e186"
            ],
            [
             0.8,
             "#7fbc41"
            ],
            [
             0.9,
             "#4d9221"
            ],
            [
             1,
             "#276419"
            ]
           ],
           "sequential": [
            [
             0,
             "#0d0887"
            ],
            [
             0.1111111111111111,
             "#46039f"
            ],
            [
             0.2222222222222222,
             "#7201a8"
            ],
            [
             0.3333333333333333,
             "#9c179e"
            ],
            [
             0.4444444444444444,
             "#bd3786"
            ],
            [
             0.5555555555555556,
             "#d8576b"
            ],
            [
             0.6666666666666666,
             "#ed7953"
            ],
            [
             0.7777777777777778,
             "#fb9f3a"
            ],
            [
             0.8888888888888888,
             "#fdca26"
            ],
            [
             1,
             "#f0f921"
            ]
           ],
           "sequentialminus": [
            [
             0,
             "#0d0887"
            ],
            [
             0.1111111111111111,
             "#46039f"
            ],
            [
             0.2222222222222222,
             "#7201a8"
            ],
            [
             0.3333333333333333,
             "#9c179e"
            ],
            [
             0.4444444444444444,
             "#bd3786"
            ],
            [
             0.5555555555555556,
             "#d8576b"
            ],
            [
             0.6666666666666666,
             "#ed7953"
            ],
            [
             0.7777777777777778,
             "#fb9f3a"
            ],
            [
             0.8888888888888888,
             "#fdca26"
            ],
            [
             1,
             "#f0f921"
            ]
           ]
          },
          "colorway": [
           "#636efa",
           "#EF553B",
           "#00cc96",
           "#ab63fa",
           "#FFA15A",
           "#19d3f3",
           "#FF6692",
           "#B6E880",
           "#FF97FF",
           "#FECB52"
          ],
          "font": {
           "color": "#2a3f5f"
          },
          "geo": {
           "bgcolor": "white",
           "lakecolor": "white",
           "landcolor": "#E5ECF6",
           "showlakes": true,
           "showland": true,
           "subunitcolor": "white"
          },
          "hoverlabel": {
           "align": "left"
          },
          "hovermode": "closest",
          "mapbox": {
           "style": "light"
          },
          "paper_bgcolor": "white",
          "plot_bgcolor": "#E5ECF6",
          "polar": {
           "angularaxis": {
            "gridcolor": "white",
            "linecolor": "white",
            "ticks": ""
           },
           "bgcolor": "#E5ECF6",
           "radialaxis": {
            "gridcolor": "white",
            "linecolor": "white",
            "ticks": ""
           }
          },
          "scene": {
           "xaxis": {
            "backgroundcolor": "#E5ECF6",
            "gridcolor": "white",
            "gridwidth": 2,
            "linecolor": "white",
            "showbackground": true,
            "ticks": "",
            "zerolinecolor": "white"
           },
           "yaxis": {
            "backgroundcolor": "#E5ECF6",
            "gridcolor": "white",
            "gridwidth": 2,
            "linecolor": "white",
            "showbackground": true,
            "ticks": "",
            "zerolinecolor": "white"
           },
           "zaxis": {
            "backgroundcolor": "#E5ECF6",
            "gridcolor": "white",
            "gridwidth": 2,
            "linecolor": "white",
            "showbackground": true,
            "ticks": "",
            "zerolinecolor": "white"
           }
          },
          "shapedefaults": {
           "line": {
            "color": "#2a3f5f"
           }
          },
          "ternary": {
           "aaxis": {
            "gridcolor": "white",
            "linecolor": "white",
            "ticks": ""
           },
           "baxis": {
            "gridcolor": "white",
            "linecolor": "white",
            "ticks": ""
           },
           "bgcolor": "#E5ECF6",
           "caxis": {
            "gridcolor": "white",
            "linecolor": "white",
            "ticks": ""
           }
          },
          "title": {
           "x": 0.05
          },
          "xaxis": {
           "automargin": true,
           "gridcolor": "white",
           "linecolor": "white",
           "ticks": "",
           "title": {
            "standoff": 15
           },
           "zerolinecolor": "white",
           "zerolinewidth": 2
          },
          "yaxis": {
           "automargin": true,
           "gridcolor": "white",
           "linecolor": "white",
           "ticks": "",
           "title": {
            "standoff": 15
           },
           "zerolinecolor": "white",
           "zerolinewidth": 2
          }
         }
        },
        "title": {
         "text": "近二十年论文发表量最多的前10学校与其他学校占比"
        }
       }
      },
      "image/png": "[encoded data removed]",
      "text/html": [
       "<div>                            <div id=\"44237583-c4ae-4922-999e-b1da9a20b226\" class=\"plotly-graph-div\" style=\"height:525px; width:100%;\"></div>            <script type=\"text/javascript\">                require([\"plotly\"], function(Plotly) {                    window.PLOTLYENV=window.PLOTLYENV || {};                                    if (document.getElementById(\"44237583-c4ae-4922-999e-b1da9a20b226\")) {                    Plotly.newPlot(                        \"44237583-c4ae-4922-999e-b1da9a20b226\",                        [{\"domain\":{\"x\":[0.0,1.0],\"y\":[0.0,1.0]},\"hovertemplate\":\"\\u5b66\\u6821=%{label}\\u003cbr\\u003e\\u8bba\\u6587\\u603b\\u6570=%{value}\\u003cextra\\u003e\\u003c\\u002fextra\\u003e\",\"labels\":[\"\\u4e1c\\u534e\\u5927\\u5b66\",\"\\u6b66\\u6c49\\u7eba\\u7ec7\\u5927\\u5b66\",\"\\u5929\\u6d25\\u5de5\\u4e1a\\u5927\\u5b66\",\"\\u897f\\u5b89\\u5de5\\u7a0b\\u5927\\u5b66\",\"\\u6d59\\u6c5f\\u7406\\u5de5\\u5927\\u5b66\",\"\\u6c5f\\u5357\\u5927\\u5b66\",\"\\u82cf\\u5dde\\u5927\\u5b66\",\"\\u4e2d\\u539f\\u5de5\\u5b66\\u9662\",\"\\u9752\\u5c9b\\u5927\\u5b66\",\"\\u6cb3\\u5317\\u79d1\\u6280\\u5927\\u5b66\",\"\\u5176\\u4ed6\"],\"legendgroup\":\"\",\"name\":\"\",\"showlegend\":true,\"values\":[3784,2289,1707,1550,1320,1300,1043,667,639,319,3250],\"type\":\"pie\",\"pull\":[0.05,0.05,0.05,0.05,0.05,0.05,0.05,0.05,0.05,0.05,0.05],\"textinfo\":\"percent+label\"}],                        {\"template\":{\"data\":{\"histogram2dcontour\":[{\"type\":\"histogram2dcontour\",\"colorbar\":{\"outlinewidth\":0,\"ticks\":\"\"},\"colorscale\":[[0.0,\"#0d0887\"],[0.1111111111111111,\"#46039f\"],[0.2222222222222222,\"#7201a8\"],[0.3333333333333333,\"#9c179e\"],[0.4444444444444444,\"#bd3786\"],[0.5555555555555556,\"#d8576b\"],[0.6666666666666666,\"#ed7953\"],[0.7777777777777778,\"#fb9f3a\"],[0.8888888888888888,\"#fdca26\"],[1.0,\"#f0f921\"]]}],\"choropleth\":[{\"type\":\"choropleth\",\"colorbar\":{\"outlinewidth\":0,\"ticks\":\"\"}}],\"histogram2d\":[{\"type\":\"histogram2d\",\"colorbar\":{\"outlinewidth\":0,\"ticks\":\"\"},\"colorscale\":[[0.0,\"#0d0887\"],[0.1111111111111111,\"#46039f\"],[0.2222222222222222,\"#7201a8\"],[0.3333333333333333,\"#9c179e\"],[0.4444444444444444,\"#bd3786\"],[0.5555555555555556,\"#d8576b\"],[0.6666666666666666,\"#ed7953\"],[0.7777777777777778,\"#fb9f3a\"],[0.8888888888888888,\"#fdca26\"],[1.0,\"#f0f921\"]]}],\"heatmap\":[{\"type\":\"heatmap\",\"colorbar\":{\"outlinewidth\":0,\"ticks\":\"\"},\"colorscale\":[[0.0,\"#0d0887\"],[0.1111111111111111,\"#46039f\"],[0.2222222222222222,\"#7201a8\"],[0.3333333333333333,\"#9c179e\"],[0.4444444444444444,\"#bd3786\"],[0.5555555555555556,\"#d8576b\"],[0.6666666666666666,\"#ed7953\"],[0.7777777777777778,\"#fb9f3a\"],[0.8888888888888888,\"#fdca26\"],[1.0,\"#f0f921\"]]}],\"heatmapgl\":[{\"type\":\"heatmapgl\",\"colorbar\":{\"outlinewidth\":0,\"ticks\":\"\"},\"colorscale\":[[0.0,\"#0d0887\"],[0.1111111111111111,\"#46039f\"],[0.2222222222222222,\"#7201a8\"],[0.3333333333333333,\"#9c179e\"],[0.4444444444444444,\"#bd3786\"],[0.5555555555555556,\"#d8576b\"],[0.6666666666666666,\"#ed7953\"],[0.7777777777777778,\"#fb9f3a\"],[0.8888888888888888,\"#fdca26\"],[1.0,\"#f0f921\"]]}],\"contourcarpet\":[{\"type\":\"contourcarpet\",\"colorbar\":{\"outlinewidth\":0,\"ticks\":\"\"}}],\"contour\":[{\"type\":\"contour\",\"colorbar\":{\"outlinewidth\":0,\"ticks\":\"\"},\"colorscale\":[[0.0,\"#0d0887\"],[0.1111111111111111,\"#46039f\"],[0.2222222222222222,\"#7201a8\"],[0.3333333333333333,\"#9c179e\"],[0.4444444444444444,\"#bd3786\"],[0.5555555555555556,\"#d8576b\"],[0.6666666666666666,\"#ed7953\"],[0.7777777777777778,\"#fb9f3a\"],[0.8888888888888888,\"#fdca26\"],[1.0,\"#f0f921\"]]}],\"surface\":[{\"type\":\"surface\",\"colorbar\":{\"outlinewidth\":0,\"ticks\":\"\"},\"colorscale\":[[0.0,\"#0d0887\"],[0.1111111111111111,\"#46039f\"],[0.2222222222222222,\"#7201a8\"],[0.3333333333333333,\"#9c179e\"],[0.4444444444444444,\"#bd3786\"],[0.5555555555555556,\"#d8576b\"],[0.6666666666666666,\"#ed7953\"],[0.7777777777777778,\"#fb9f3a\"],[0.8888888888888888,\"#fdca26\"],[1.0,\"#f0f921\"]]}],\"mesh3d\":[{\"type\":\"mesh3d\",\"colorbar\":{\"outlinewidth\":0,\"ticks\":\"\"}}],\"scatter\":[{\"fillpattern\":{\"fillmode\":\"overlay\",\"size\":10,\"solidity\":0.2},\"type\":\"scatter\"}],\"parcoords\":[{\"type\":\"parcoords\",\"line\":{\"colorbar\":{\"outlinewidth\":0,\"ticks\":\"\"}}}],\"scatterpolargl\":[{\"type\":\"scatterpolargl\",\"marker\":{\"colorbar\":{\"outlinewidth\":0,\"ticks\":\"\"}}}],\"bar\":[{\"error_x\":{\"color\":\"#2a3f5f\"},\"error_y\":{\"color\":\"#2a3f5f\"},\"marker\":{\"line\":{\"color\":\"#E5ECF6\",\"width\":0.5},\"pattern\":{\"fillmode\":\"overlay\",\"size\":10,\"solidity\":0.2}},\"type\":\"bar\"}],\"scattergeo\":[{\"type\":\"scattergeo\",\"marker\":{\"colorbar\":{\"outlinewidth\":0,\"ticks\":\"\"}}}],\"scatterpolar\":[{\"type\":\"scatterpolar\",\"marker\":{\"colorbar\":{\"outlinewidth\":0,\"ticks\":\"\"}}}],\"histogram\":[{\"marker\":{\"pattern\":{\"fillmode\":\"overlay\",\"size\":10,\"solidity\":0.2}},\"type\":\"histogram\"}],\"scattergl\":[{\"type\":\"scattergl\",\"marker\":{\"colorbar\":{\"outlinewidth\":0,\"ticks\":\"\"}}}],\"scatter3d\":[{\"type\":\"scatter3d\",\"line\":{\"colorbar\":{\"outlinewidth\":0,\"ticks\":\"\"}},\"marker\":{\"colorbar\":{\"outlinewidth\":0,\"ticks\":\"\"}}}],\"scattermapbox\":[{\"type\":\"scattermapbox\",\"marker\":{\"colorbar\":{\"outlinewidth\":0,\"ticks\":\"\"}}}],\"scatterternary\":[{\"type\":\"scatterternary\",\"marker\":{\"colorbar\":{\"outlinewidth\":0,\"ticks\":\"\"}}}],\"scattercarpet\":[{\"type\":\"scattercarpet\",\"marker\":{\"colorbar\":{\"outlinewidth\":0,\"ticks\":\"\"}}}],\"carpet\":[{\"aaxis\":{\"endlinecolor\":\"#2a3f5f\",\"gridcolor\":\"white\",\"linecolor\":\"white\",\"minorgridcolor\":\"white\",\"startlinecolor\":\"#2a3f5f\"},\"baxis\":{\"endlinecolor\":\"#2a3f5f\",\"gridcolor\":\"white\",\"linecolor\":\"white\",\"minorgridcolor\":\"white\",\"startlinecolor\":\"#2a3f5f\"},\"type\":\"carpet\"}],\"table\":[{\"cells\":{\"fill\":{\"color\":\"#EBF0F8\"},\"line\":{\"color\":\"white\"}},\"header\":{\"fill\":{\"color\":\"#C8D4E3\"},\"line\":{\"color\":\"white\"}},\"type\":\"table\"}],\"barpolar\":[{\"marker\":{\"line\":{\"color\":\"#E5ECF6\",\"width\":0.5},\"pattern\":{\"fillmode\":\"overlay\",\"size\":10,\"solidity\":0.2}},\"type\":\"barpolar\"}],\"pie\":[{\"automargin\":true,\"type\":\"pie\"}]},\"layout\":{\"autotypenumbers\":\"strict\",\"colorway\":[\"#636efa\",\"#EF553B\",\"#00cc96\",\"#ab63fa\",\"#FFA15A\",\"#19d3f3\",\"#FF6692\",\"#B6E880\",\"#FF97FF\",\"#FECB52\"],\"font\":{\"color\":\"#2a3f5f\"},\"hovermode\":\"closest\",\"hoverlabel\":{\"align\":\"left\"},\"paper_bgcolor\":\"white\",\"plot_bgcolor\":\"#E5ECF6\",\"polar\":{\"bgcolor\":\"#E5ECF6\",\"angularaxis\":{\"gridcolor\":\"white\",\"linecolor\":\"white\",\"ticks\":\"\"},\"radialaxis\":{\"gridcolor\":\"white\",\"linecolor\":\"white\",\"ticks\":\"\"}},\"ternary\":{\"bgcolor\":\"#E5ECF6\",\"aaxis\":{\"gridcolor\":\"white\",\"linecolor\":\"white\",\"ticks\":\"\"},\"baxis\":{\"gridcolor\":\"white\",\"linecolor\":\"white\",\"ticks\":\"\"},\"caxis\":{\"gridcolor\":\"white\",\"linecolor\":\"white\",\"ticks\":\"\"}},\"coloraxis\":{\"colorbar\":{\"outlinewidth\":0,\"ticks\":\"\"}},\"colorscale\":{\"sequential\":[[0.0,\"#0d0887\"],[0.1111111111111111,\"#46039f\"],[0.2222222222222222,\"#7201a8\"],[0.3333333333333333,\"#9c179e\"],[0.4444444444444444,\"#bd3786\"],[0.5555555555555556,\"#d8576b\"],[0.6666666666666666,\"#ed7953\"],[0.7777777777777778,\"#fb9f3a\"],[0.8888888888888888,\"#fdca26\"],[1.0,\"#f0f921\"]],\"sequentialminus\":[[0.0,\"#0d0887\"],[0.1111111111111111,\"#46039f\"],[0.2222222222222222,\"#7201a8\"],[0.3333333333333333,\"#9c179e\"],[0.4444444444444444,\"#bd3786\"],[0.5555555555555556,\"#d8576b\"],[0.6666666666666666,\"#ed7953\"],[0.7777777777777778,\"#fb9f3a\"],[0.8888888888888888,\"#fdca26\"],[1.0,\"#f0f921\"]],\"diverging\":[[0,\"#8e0152\"],[0.1,\"#c51b7d\"],[0.2,\"#de77ae\"],[0.3,\"#f1b6da\"],[0.4,\"#fde0ef\"],[0.5,\"#f7f7f7\"],[0.6,\"#e6f5d0\"],[0.7,\"#b8e186\"],[0.8,\"#7fbc41\"],[0.9,\"#4d9221\"],[1,\"#276419\"]]},\"xaxis\":{\"gridcolor\":\"white\",\"linecolor\":\"white\",\"ticks\":\"\",\"title\":{\"standoff\":15},\"zerolinecolor\":\"white\",\"automargin\":true,\"zerolinewidth\":2},\"yaxis\":{\"gridcolor\":\"white\",\"linecolor\":\"white\",\"ticks\":\"\",\"title\":{\"standoff\":15},\"zerolinecolor\":\"white\",\"automargin\":true,\"zerolinewidth\":2},\"scene\":{\"xaxis\":{\"backgroundcolor\":\"#E5ECF6\",\"gridcolor\":\"white\",\"linecolor\":\"white\",\"showbackground\":true,\"ticks\":\"\",\"zerolinecolor\":\"white\",\"gridwidth\":2},\"yaxis\":{\"backgroundcolor\":\"#E5ECF6\",\"gridcolor\":\"white\",\"linecolor\":\"white\",\"showbackground\":true,\"ticks\":\"\",\"zerolinecolor\":\"white\",\"gridwidth\":2},\"zaxis\":{\"backgroundcolor\":\"#E5ECF6\",\"gridcolor\":\"white\",\"linecolor\":\"white\",\"showbackground\":true,\"ticks\":\"\",\"zerolinecolor\":\"white\",\"gridwidth\":2}},\"shapedefaults\":{\"line\":{\"color\":\"#2a3f5f\"}},\"annotationdefaults\":{\"arrowcolor\":\"#2a3f5f\",\"arrowhead\":0,\"arrowwidth\":1},\"geo\":{\"bgcolor\":\"white\",\"landcolor\":\"#E5ECF6\",\"subunitcolor\":\"white\",\"showland\":true,\"showlakes\":true,\"lakecolor\":\"white\"},\"title\":{\"x\":0.05},\"mapbox\":{\"style\":\"light\"}}},\"legend\":{\"tracegroupgap\":0},\"title\":{\"text\":\"\\u8fd1\\u4e8c\\u5341\\u5e74\\u8bba\\u6587\\u53d1\\u8868\\u91cf\\u6700\\u591a\\u7684\\u524d10\\u5b66\\u6821\\u4e0e\\u5176\\u4ed6\\u5b66\\u6821\\u5360\\u6bd4\"}},                        {\"responsive\": true}                    ).then(function(){\n",
       "                            \n",
       "var gd = document.getElementById('44237583-c4ae-4922-999e-b1da9a20b226');\n",
       "var x = new MutationObserver(function (mutations, observer) {{\n",
       "        var display = window.getComputedStyle(gd).display;\n",
       "        if (!display || display === 'none') {{\n",
       "            console.log([gd, 'removed!']);\n",
       "            Plotly.purge(gd);\n",
       "            observer.disconnect();\n",
       "        }}\n",
       "}});\n",
       "\n",
       "// Listen for the removal of the full notebook cells\n",
       "var notebookContainer = gd.closest('#notebook-container');\n",
       "if (notebookContainer) {{\n",
       "    x.observe(notebookContainer, {childList: true});\n",
       "}}\n",
       "\n",
       "// Listen for the clearing of the current output cell\n",
       "var outputEl = gd.closest('.output');\n",
       "if (outputEl) {{\n",
       "    x.observe(outputEl, {childList: true});\n",
       "}}\n",
       "\n",
       "                        })                };                });            </script>        </div>"
      ]
     },
     "metadata": {},
     "output_type": "display_data"
    }
   ],
   "source": [
    "import pandas as pd\n",
    "import plotly.express as px\n",
    "# 按论文总数排序并取前10位学校\n",
    "top_schools = df.sort_values(by='二十年论文总数', ascending=False).head(10)\n",
    "\n",
    "# 计算其余学校的论文总数并将它们归为“其他”类别\n",
    "other_schools = df.sort_values(by='二十年论文总数', ascending=False).iloc[10:]\n",
    "other_sum = other_schools['二十年论文总数'].sum()\n",
    "# 创建新的 DataFrame，包含前10学校和“其他”学校的总论文数\n",
    "top_schools_with_others = top_schools[['学校名称', '二十年论文总数']]\n",
    "other_df = pd.DataFrame({'学校名称': ['其他'], '二十年论文总数': [other_sum]})\n",
    "top_schools_with_others = pd.concat([top_schools_with_others, other_df], ignore_index=True)\n",
    "\n",
    "# 使用 Plotly 创建饼图\n",
    "fig = px.pie(top_schools_with_others, \n",
    "             names='学校名称', \n",
    "             values='二十年论文总数', \n",
    "             title=\"近二十年论文发表量最多的前10学校与其他学校占比\", \n",
    "             labels={'学校名称': '学校', '二十年论文总数': '论文总数'},\n",
    "             #hover_data={'学校名称': True, '二十年论文总数': True}\n",
    "            )\n",
    "# 展示图表\n",
    "fig.update_traces(textinfo='percent+label', pull=[0.05]*len(top_schools_with_others))  # 显示百分比并拉开第一个扇区\n",
    "fig.show()"
   ]
  },
  {
   "cell_type": "markdown",
   "id": "272b6b40-c603-4e7c-963b-0bcbf4ab5d9e",
   "metadata": {},
   "source": [
    "------------------------------------------------------------------------------------------------------------\n",
    "------------------------------------------------------------------------------------------------------------\n",
    "------------------------------------------------------------------------------------------------------------\n",
    "------------------------------------------------------------------------------------------------------------\n",
    "------------------------------------------------------------------------------------------------------------\n",
    "------------------------------------------------------------------------------------------------------------"
   ]
  }
 ],
 "metadata": {
  "kernelspec": {
   "display_name": "Python 3 (ipykernel)",
   "language": "python",
   "name": "python3"
  },
  "language_info": {
   "codemirror_mode": {
    "name": "ipython",
    "version": 3
   },
   "file_extension": ".py",
   "mimetype": "text/x-python",
   "name": "python",
   "nbconvert_exporter": "python",
   "pygments_lexer": "ipython3",
   "version": "3.12.4"
  }
 },
 "nbformat": 4,
 "nbformat_minor": 5
}
